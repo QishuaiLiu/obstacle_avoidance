{
 "cells": [
  {
   "cell_type": "code",
   "execution_count": 1,
   "id": "a6b267cd",
   "metadata": {},
   "outputs": [],
   "source": [
    "import math\n",
    "import matplotlib.pyplot as plt\n",
    "import numpy as np"
   ]
  },
  {
   "cell_type": "code",
   "execution_count": 19,
   "id": "b53bf715",
   "metadata": {},
   "outputs": [
    {
     "name": "stdout",
     "output_type": "stream",
     "text": [
      "T is: 13.463968515384826\n",
      "omega is: 0.46666666666666673\n",
      "-3.2666666666666675 0 0 0 -0.20143419398501522 1.989830210217346 0.46666666666666673\n"
     ]
    }
   ],
   "source": [
    "x = []\n",
    "y = []\n",
    "vx = []\n",
    "vy = []\n",
    "acc_x_list = []\n",
    "acc_y_list = []\n",
    "jerk_x_list = []\n",
    "jerk_y_list = []\n",
    "time = []\n",
    "\n",
    "\n",
    "R = 15\n",
    "v = 7\n",
    "# R = 2\n",
    "# v = 2\n",
    "T = 2 * math.pi * R / v\n",
    "print(\"T is:\", T)\n",
    "omega = 2 * math.pi / T\n",
    "print(\"omega is:\", omega)\n",
    "A = R\n",
    "acc_x = -R * math.pow(omega, 2)\n",
    "acc_y = 0\n",
    "\n",
    "vx_t = 0\n",
    "vy_t = 0\n",
    "\n",
    "x_pos_init = 0\n",
    "y_pos_init = 0\n",
    "\n",
    "\n",
    "\n",
    "# jerk = A * math.pow(omega, 3) * math.cos(t)\n",
    "# jerk = -A * math.pow(omega, 3) * math.sin(t)\n",
    "print(acc_x, acc_y, vx_t, vy_t, x_pos, y_pos, omega)\n"
   ]
  },
  {
   "cell_type": "code",
   "execution_count": 20,
   "id": "d2aa4224",
   "metadata": {},
   "outputs": [],
   "source": [
    "for t in np.arange(0, 37.9, 0.1):\n",
    "        \n",
    "        temp = omega * t\n",
    "        time.append(t)\n",
    "        jerk_x = A * math.pow(omega, 3) * math.cos(temp)\n",
    "        jerk_y = A * math.pow(omega, 3) * math.sin(temp)\n",
    "        \n",
    "        jerk_x_list.append(jerk_x)\n",
    "        jerk_y_list.append(jerk_y)\n",
    "        \n",
    "        acc_x = A * math.pow(omega, 2) * math.sin(temp)\n",
    "        acc_y = -A * math.pow(omega, 2) * math.cos(temp)\n",
    "#         acc_x += jerk_x * 0.1;\n",
    "#         acc_y += jerk_y * 0.1;\n",
    "        acc_x_list.append(acc_x)\n",
    "        acc_y_list.append(acc_y)\n",
    "        \n",
    "        vx_t = -A * math.pow(omega, 1) * math.cos(temp)\n",
    "        vy_t = -A * math.pow(omega, 1) * math.sin(temp)\n",
    "#         vx_t += acc_x * 0.1;\n",
    "#         vy_t += acc_y * 0.1;\n",
    "        vx.append(vx_t)\n",
    "        vy.append(vy_t)\n",
    "#         vx_t = vx_t + 0.1 * acc_x\n",
    "#         vy_t = vy_t + 0.1 * acc_y\n",
    "\n",
    "        x_pos = -A * math.sin(temp) + 0\n",
    "        y_pos = A * math.cos(temp) +0\n",
    "#         x_pos += vx_t * 0.1\n",
    "#         y_pos += vy_t * 0.1\n",
    "        \n",
    "        \n",
    "        x.append(x_pos)\n",
    "        y.append(y_pos)"
   ]
  },
  {
   "cell_type": "code",
   "execution_count": 21,
   "id": "0a0b24c2",
   "metadata": {},
   "outputs": [
    {
     "name": "stdout",
     "output_type": "stream",
     "text": [
      "0.0 15.0 -7.000000000000001 -0.0 0.0 -3.2666666666666675 1.524444444444445 0.0\n"
     ]
    },
    {
     "data": {
      "image/png": "[encoded data removed]",
      "text/plain": [
       "<Figure size 432x288 with 1 Axes>"
      ]
     },
     "metadata": {
      "needs_background": "light"
     },
     "output_type": "display_data"
    }
   ],
   "source": [
    "# plt.plot(time, acc_x_list, label='acc_x')\n",
    "# plt.plot(time, acc_y_list, label='acc_y')\n",
    "plt.plot(time, acc_x_list, label='vx')\n",
    "plt.plot(time, acc_y_list, label='vy')\n",
    "# plt.plot(x, y)\n",
    "plt.legend(loc=1)\n",
    "print(x[0], y[0], vx[0], vy[0], acc_x_list[0], acc_y_list[0], jerk_x_list[0], jerk_y_list[0])"
   ]
  },
  {
   "cell_type": "code",
   "execution_count": 6,
   "id": "399b2243",
   "metadata": {},
   "outputs": [
    {
     "name": "stdout",
     "output_type": "stream",
     "text": [
      "begin the verify\n",
      "3125\n"
     ]
    }
   ],
   "source": [
    "from scipy.io import savemat\n",
    "file_name = 'data.mat'\n",
    "savemat(file_name, {'x':x, 'y':y, 'vx':vx, 'vy':vy, 'acc_x':acc_x_list, \n",
    "                   'acc_y':acc_y_list, 'jerk_x':jerk_x_list, 'jerk_y':jerk_y_list})\n",
    "\n",
    "\n",
    "print(\"begin the verify\")\n",
    "print(5**5)"
   ]
  },
  {
   "cell_type": "code",
   "execution_count": 133,
   "id": "45fb1e56",
   "metadata": {},
   "outputs": [
    {
     "name": "stdout",
     "output_type": "stream",
     "text": [
      "[[ 0.2304 -0.1152  0.48  ]\n",
      " [-0.576   1.344  -0.96  ]\n",
      " [ 0.48   -0.96    0.6   ]]\n"
     ]
    }
   ],
   "source": [
    "guidance_t = 5.0;\n",
    "import numpy as np\n",
    "coef = np.array([[720, -360, 60 * (guidance_t**2)], [-360 * guidance_t, 168 * guidance_t**2, -24 * guidance_t**3],\n",
    "               [60 * guidance_t**2, -24 * guidance_t**3, 3 * guidance_t**4]]) / (guidance_t ** 5)\n",
    "print(coef)"
   ]
  },
  {
   "cell_type": "code",
   "execution_count": 134,
   "id": "e5787c83",
   "metadata": {},
   "outputs": [
    {
     "name": "stdout",
     "output_type": "stream",
     "text": [
      "[-5.023968 11.775936 -9.15996 ] [ 0.7648128  2.76048   -1.046472 ]\n"
     ]
    }
   ],
   "source": [
    "final_state_x = np.array([-15, 0, -3.2666])  ## initial values for x and y\n",
    "final_state_y = np.array([10.6066, 4.9497, -2.30988]);\n",
    "\n",
    "result_coef_x = coef.dot(final_state_x)   ## the costate for the optimal control\n",
    "result_coef_y = coef.dot(final_state_y)\n",
    "print(result_coef_x, result_coef_y)"
   ]
  },
  {
   "cell_type": "code",
   "execution_count": 136,
   "id": "7bf8e2df",
   "metadata": {},
   "outputs": [
    {
     "name": "stdout",
     "output_type": "stream",
     "text": [
      "time len is: 51\n",
      "[-5.023968 11.775936 -9.15996 ]\n"
     ]
    }
   ],
   "source": [
    "time = np.arange(0, guidance_t + 0.1, 0.1)\n",
    "print('time len is:', len(time))\n",
    "\n",
    "state_x = np.zeros((3, len(time)))\n",
    "state_y = np.zeros((3, len(time)))\n",
    "for i in range(len(time)):\n",
    "    state_coef = np.array([[1/120 * time[i]**5, 1/24 * time[i]**4, 1/6 * time[i]**3],\n",
    "                          [1/24 * time[i]**4, 1/6 * time[i]**3, 1/2 * time[i]**2],\n",
    "                          [1/6 * time[i]**3, 1/2 * time[i]**2, time[i]]])\n",
    "    state_x[:,i] = state_coef.dot(result_coef_x)\n",
    "    state_y[:,i] = state_coef.dot(result_coef_y)\n",
    "print(result_coef_x)"
   ]
  },
  {
   "cell_type": "code",
   "execution_count": 131,
   "id": "a058c8d3",
   "metadata": {},
   "outputs": [
    {
     "data": {
      "text/plain": [
       "<matplotlib.legend.Legend at 0x7efc91c2f908>"
      ]
     },
     "execution_count": 131,
     "metadata": {},
     "output_type": "execute_result"
    },
    {
     "data": {
      "image/png": "[encoded data removed]",
      "text/plain": [
       "<Figure size 432x288 with 1 Axes>"
      ]
     },
     "metadata": {
      "needs_background": "light"
     },
     "output_type": "display_data"
    }
   ],
   "source": [
    "plt.plot(time, state_x[0,:], label=\"pos_x\")\n",
    "plt.plot(time, state_x[1,:], label=\"vel_x\")\n",
    "plt.plot(time, state_x[2,:], label='acc_x')\n",
    "# plt.plot(time, state_y[0,:], label=\"pos_y\")\n",
    "# plt.plot(time, state_y[1,:], label='vel_y')\n",
    "# plt.plot(time, state_y[2,:], label='acc_y')\n",
    "plt.legend()"
   ]
  },
  {
   "cell_type": "code",
   "execution_count": 108,
   "id": "97d05491",
   "metadata": {},
   "outputs": [
    {
     "name": "stdout",
     "output_type": "stream",
     "text": [
      "[ 0.00000000e+00  4.05353128e-02  1.55206970e-01  3.33756442e-01\n",
      "  5.66115720e-01  8.42407320e-01  1.15294428e+00  1.48823015e+00\n",
      "  1.83895903e+00  2.19601551e+00  2.55047472e+00  2.89360231e+00\n",
      "  3.21685445e+00  3.51187783e+00  3.77050968e+00  3.98477772e+00\n",
      "  4.14690022e+00  4.24928597e+00  4.28453426e+00  4.24543493e+00\n",
      "  4.12496832e+00  3.91630531e+00  3.61280730e+00  3.20802619e+00\n",
      "  2.69570444e+00  2.06977500e+00  1.32436136e+00  4.53777516e-01\n",
      " -5.47471992e-01 -1.68469212e+00 -2.96299728e+00 -4.38731139e+00\n",
      " -5.96236783e+00 -7.69270945e+00 -9.58268860e+00 -1.16364671e+01\n",
      " -1.38580162e+01 -1.62511167e+01 -1.88193589e+01 -2.15661424e+01\n",
      " -2.44946765e+01 -2.76079798e+01 -3.09088806e+01 -3.44000164e+01\n",
      " -3.80838344e+01 -4.19625911e+01 -4.60383526e+01 -5.03129945e+01\n",
      " -5.47882018e+01 -5.94654690e+01 -6.43461000e+01]\n"
     ]
    }
   ],
   "source": [
    "print(state_x[1,:])"
   ]
  },
  {
   "cell_type": "code",
   "execution_count": null,
   "id": "bdc59ed2",
   "metadata": {},
   "outputs": [],
   "source": []
  }
 ],
 "metadata": {
  "kernelspec": {
   "display_name": "Python 3",
   "language": "python",
   "name": "python3"
  },
  "language_info": {
   "codemirror_mode": {
    "name": "ipython",
    "version": 3
   },
   "file_extension": ".py",
   "mimetype": "text/x-python",
   "name": "python",
   "nbconvert_exporter": "python",
   "pygments_lexer": "ipython3",
   "version": "3.6.9"
  }
 },
 "nbformat": 4,
 "nbformat_minor": 5
}
