{
 "cells": [
  {
   "cell_type": "code",
   "execution_count": 643,
   "id": "a6b267cd",
   "metadata": {},
   "outputs": [],
   "source": [
    "import math\n",
    "import matplotlib.pyplot as plt\n",
    "import numpy as np"
   ]
  },
  {
   "cell_type": "code",
   "execution_count": 703,
   "id": "b53bf715",
   "metadata": {},
   "outputs": [
    {
     "name": "stdout",
     "output_type": "stream",
     "text": [
      "T is: 13.463968515384826\n",
      "omega is: 0.46666666666666673\n",
      "-3.2666666666666675 0 0 0 -5.3015227996686765 -14.031887114874934 0.46666666666666673\n"
     ]
    }
   ],
   "source": [
    "x = []\n",
    "y = []\n",
    "vx = []\n",
    "vy = []\n",
    "acc_x_list = []\n",
    "acc_y_list = []\n",
    "jerk_x_list = []\n",
    "jerk_y_list = []\n",
    "time = []\n",
    "\n",
    "\n",
    "R = 15\n",
    "v = 7\n",
    "T = 2 * math.pi * R / v\n",
    "print(\"T is:\", T)\n",
    "omega = 2 * math.pi / T\n",
    "print(\"omega is:\", omega)\n",
    "A = R\n",
    "acc_x = -R * math.pow(omega, 2)\n",
    "acc_y = 0\n",
    "\n",
    "vx_t = 0\n",
    "vy_t = 0\n",
    "\n",
    "x_pos_init = 0\n",
    "y_pos_init = 0\n",
    "\n",
    "\n",
    "\n",
    "jerk = A * math.pow(omega, 3) * math.cos(t)\n",
    "jerk = -A * math.pow(omega, 3) * math.sin(t)\n",
    "print(acc_x, acc_y, vx_t, vy_t, x_pos, y_pos, omega)\n"
   ]
  },
  {
   "cell_type": "code",
   "execution_count": 704,
   "id": "d2aa4224",
   "metadata": {},
   "outputs": [],
   "source": [
    "for t in np.arange(0, 37.9, 0.1):\n",
    "        \n",
    "        temp = omega * t\n",
    "        time.append(t)\n",
    "        jerk_x = A * math.pow(omega, 3) * math.sin(temp)\n",
    "        jerk_y = -A * math.pow(omega, 3) * math.cos(temp)\n",
    "        \n",
    "        jerk_x_list.append(jerk_x)\n",
    "        jerk_y_list.append(jerk_y)\n",
    "        \n",
    "        acc_x = -A * math.pow(omega, 2) * math.cos(temp)\n",
    "        acc_y = -A * math.pow(omega, 2) * math.sin(temp)\n",
    "#         acc_x += jerk_x * 0.1;\n",
    "#         acc_y += jerk_y * 0.1;\n",
    "        acc_x_list.append(acc_x)\n",
    "        acc_y_list.append(acc_y)\n",
    "        \n",
    "        vx_t = -A * math.pow(omega, 1) * math.sin(temp)\n",
    "        vy_t = A * math.pow(omega, 1) * math.cos(temp)\n",
    "#         vx_t += acc_x * 0.1;\n",
    "#         vy_t += acc_y * 0.1;\n",
    "        vx.append(vx_t)\n",
    "        vy.append(vy_t)\n",
    "#         vx_t = vx_t + 0.1 * acc_x\n",
    "#         vy_t = vy_t + 0.1 * acc_y\n",
    "\n",
    "        x_pos = -A * math.cos(temp) + 0\n",
    "        y_pos = A * math.sin(temp) +0\n",
    "#         x_pos += vx_t * 0.1\n",
    "#         y_pos += vy_t * 0.1\n",
    "        \n",
    "        \n",
    "        x.append(x_pos)\n",
    "        y.append(y_pos)"
   ]
  },
  {
   "cell_type": "code",
   "execution_count": 705,
   "id": "0a0b24c2",
   "metadata": {},
   "outputs": [
    {
     "data": {
      "text/plain": [
       "<matplotlib.legend.Legend at 0x7f6e52183128>"
      ]
     },
     "execution_count": 705,
     "metadata": {},
     "output_type": "execute_result"
    },
    {
     "data": {
      "image/png": "[encoded data removed]",
      "text/plain": [
       "<Figure size 432x288 with 1 Axes>"
      ]
     },
     "metadata": {
      "needs_background": "light"
     },
     "output_type": "display_data"
    }
   ],
   "source": [
    "# plt.plot(time, acc_x_list, label='acc_x')\n",
    "# plt.plot(time, acc_y_list, label='acc_y')\n",
    "plt.plot(time, x, label='vx')\n",
    "plt.plot(time, y, label='vy')\n",
    "# plt.plot(x, y)\n",
    "plt.legend()"
   ]
  },
  {
   "cell_type": "code",
   "execution_count": 708,
   "id": "399b2243",
   "metadata": {},
   "outputs": [
    {
     "name": "stdout",
     "output_type": "stream",
     "text": [
      "begin the verify\n",
      "3125\n"
     ]
    }
   ],
   "source": [
    "print(\"begin the verify\")\n",
    "print(5**5)"
   ]
  },
  {
   "cell_type": "code",
   "execution_count": 715,
   "id": "45fb1e56",
   "metadata": {},
   "outputs": [
    {
     "name": "stdout",
     "output_type": "stream",
     "text": [
      "[[ 0.2304 -0.1152  0.48  ]\n",
      " [-0.576   1.344  -0.96  ]\n",
      " [ 0.48   -0.96    0.6   ]]\n"
     ]
    }
   ],
   "source": [
    "guidance_t = 5;\n",
    "import numpy as np\n",
    "coef = np.array([[720, -360, 60 * (guidance_t**2)], [-360 * guidance_t, 168 * guidance_t**2, -24 * guidance_t**3],\n",
    "               [60 * guidance_t**2, -24 * guidance_t**3, 3 * guidance_t**4]]) / (guidance_t ** 5)\n",
    "print(coef)"
   ]
  },
  {
   "cell_type": "code",
   "execution_count": 716,
   "id": "e5787c83",
   "metadata": {},
   "outputs": [
    {
     "name": "stdout",
     "output_type": "stream",
     "text": [
      "[-5.023968 11.775936 -9.15996 ]\n"
     ]
    }
   ],
   "source": [
    "final_state_x = np.array([-15, 0, -3.2666]);\n",
    "result_coef_x = coef.dot(final_state)\n",
    "final_state_y = np.array([0, 7, 0]);\n",
    "\n",
    "print(result)"
   ]
  },
  {
   "cell_type": "code",
   "execution_count": null,
   "id": "7bf8e2df",
   "metadata": {},
   "outputs": [],
   "source": []
  }
 ],
 "metadata": {
  "kernelspec": {
   "display_name": "Python 3",
   "language": "python",
   "name": "python3"
  },
  "language_info": {
   "codemirror_mode": {
    "name": "ipython",
    "version": 3
   },
   "file_extension": ".py",
   "mimetype": "text/x-python",
   "name": "python",
   "nbconvert_exporter": "python",
   "pygments_lexer": "ipython3",
   "version": "3.6.9"
  }
 },
 "nbformat": 4,
 "nbformat_minor": 5
}
